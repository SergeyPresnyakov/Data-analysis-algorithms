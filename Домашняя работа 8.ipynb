{
 "cells": [
  {
   "cell_type": "markdown",
   "metadata": {
    "id": "UIAqr2CPdfJe"
   },
   "source": [
    "# Урок 8. Снижение размерности данных "
   ]
  },
  {
   "cell_type": "markdown",
   "metadata": {
    "id": "oOcLKigsdfJg"
   },
   "source": [
    "Большая размерность данных (под ней понимается размерность пространства признаков, то есть их количество) может серьезно усложнить задачу анализа таких данных и даже стать причиной некорректной работы некоторых алгоритмов. Кроме того, часто в исходных данных могут присутствовать лишние признаки, никак не связанные с целевой переменной. Поэтому часто встает задача понижения количества признаков, оставляя при этом самые значимые (наиболее сильно влияющие на значение целевого параметра) с отсечением менее значимых (наиболее слабо коррелирующих со значением целевого параметра) или с формированием новых признаков на основе старых. То есть ставится задача перехода от пространства большей размерности к пространству меньшей размерности с сохранением максимального количества полезной информации."
   ]
  },
  {
   "cell_type": "markdown",
   "metadata": {
    "id": "_Pa5-7u-dfJh"
   },
   "source": [
    "## Алгоритмы снижения размерности"
   ]
  },
  {
   "cell_type": "markdown",
   "metadata": {
    "id": "zspAp10fdfJi"
   },
   "source": [
    "Алгоритмы снижения размерности пространства признаков делятся на две группы - отбор признаков (то есть отбрасывание наименее важных признаков) и понижение размерности путем формирования новых признаков на основе старых."
   ]
  },
  {
   "cell_type": "markdown",
   "metadata": {
    "id": "Lmvx3YA5dfJj"
   },
   "source": [
    "### Отбор признаков"
   ]
  },
  {
   "cell_type": "markdown",
   "metadata": {
    "id": "isLulqvJdfJk"
   },
   "source": [
    "Самым простым и примитивным методом отбора является _одномерный отбор признаков_. Он заключается в оценке предсказательной силы каждого признака, то есть его информативности - насколько он коррелирует с целевой переменной. Затем отбираются либо заданное количество $k$ признаков, либо те признаки, информативность которых выше некоторого порога."
   ]
  },
  {
   "cell_type": "markdown",
   "metadata": {
    "id": "U547aIwTdfJl"
   },
   "source": [
    "Оценка предсказательной силы признака (или степени связи этого признака и целевой переменной) может проводиться разными методами, например:\n",
    "\n",
    "- в случае регрессии - _корреляция_ $$R_{j} = \\frac{\\sum_{i=1}^{l}(x_{ij} - \\bar{x}_{j})(y_{i} - \\bar{y})}{\\sqrt{\\sum_{i=1}^{l}(x_{ij} - \\bar{x}_{j})^{2}\\sum_{i=1}^{l}(y_{i} - \\bar{y})^{2}}},$$ где $\\bar{x_{j}}$ и $\\bar{y}$ - среднее значение $j$-го признака и целевой переменной, соответственно. Чем больше по модулю корреляция ($\\pm 1$), тем информативнее признак. Следует заметить, что этот метод учитывает только линейную связь между признаком и целевой переменной.\n",
    "\n",
    "\n",
    "- в случае задачи классификации - _взаимная информация (mutual information)_, моделирующая корреляцию между признаками и классами. Она использует в расчете вероятность того, что одновременно значение $j$-го признака $x_{ij}$ равно числу $v$ и значение целевой переменной $y_{i}=k$, или, другими словами, долю таких объектов от общего количества объектов в выборке $P(x=v,y=k)$. Тогда взаимная информация будет находиться как $$MI_{j}=\\sum_{v \\in X}\\sum_{k \\in Y}P(x=v,y=k)\\text{log}\\frac{P(x=v,y=k)}{P(x=v)P(y=k)}.$$ Здесь $P(x=v)$ и $P(y=k)$ - доли объектов, на которых значение признака равно $v$ и значение целевой переменной равно $k$, соответственно. Если признак и целевая переменная независимы, то взаимная информация обращается в ноль. В отличие от предыдущего метода, этот метод позволяет находять произвольные зависимости (в т.ч. нелинейные) в пространстве произвольной размерности.\n",
    "\n",
    "Такие методы позволяют оценить важность исключительно каждого признака отдельно, без учета влияния комбинаций признаков на целевую переменную, поэтому они и называются одномерными. На практике зачастую признаки влияют именно в совокупности, и по отдельности могут ошибочно быть расценены как некоррелирующие с целевой переменной, поэтому одномерные методы отбора не являются оптимальным методом в большинстве случаев."
   ]
  },
  {
   "cell_type": "markdown",
   "metadata": {
    "id": "DV5E5PnadfJl"
   },
   "source": [
    "Отдельной группой методов можно назвать так называемые _переборные методы_, которые дискретно оценивают качество модели, обученной на различных подмножествах признаков. При этом происходит полный перебор всех возможных вариантов. Обычно такие алгоритмы делятся на _жадные (greedy)_ и _нежадные (non-greedy)_. Полный список их можно найти в дополнительных материалах."
   ]
  },
  {
   "cell_type": "markdown",
   "metadata": {
    "id": "EOjQFkTgdfJm"
   },
   "source": [
    "Жадность алгоритмов заключаются в том, что если один из признаков включен в подмножество (или исключен в случае исключающего метода), в следующих итерациях поиска он уже не учитывается, так что алгоритм работает на меньшем объеме данных. Известные алгоритмы этого типа - _жадное включение_ и _жадное исключение_. В случае жадного включения на первой итерации аналогично одномерному отбору признаков находится признак, обладающий наибольшей предсказательной силой и добавляется в формирующуееся подмножество $\\{i_{1}\\}$. Далее происходит перебор оставшихся признаков с попеременным добавлением каждого из них в подмножество к первому и оценкой качества получаемой модели, обученной на подмножестве из этих двух признаков $\\{i_{1}, i_{2}\\}$. В итоге в подмножестве остается тот признак, при добавлении которого получается наилучшее качество. Далее эта процедура повторяется до момента, пока ошибка получаемой модели уменьшается. На каждой итерации в подмножество добавляется один признак, максимально улучшающий работу модели. Если на какой-то итерации при добавлении признаков ошибка не уменьшается, процесс останавливается.\n",
    "\n",
    "Плюсом такого алгоритма является относительная быстрота и возможность учета некоторых взаимодействий между признаками (как раз то, чего лишен одномерный отбор). Минусом же можно назвать вероятность застрять в локальном минимуме ошибки, если такой есть. В случае же когда есть единственный глобальный минимум, алгоритм найдет оптимальное решение.\n",
    "\n",
    "Есть также модификации этого алгоритма с многократным проходом по выборке и поочередным включением/исключением признаков из подмножества для учета совокупного влияния признаков."
   ]
  },
  {
   "cell_type": "markdown",
   "metadata": {
    "id": "Q5TOTIM4dfJo"
   },
   "source": [
    "Примером нежадного алгоритма может быть простой последовательный полный перебор всех возможных подмножеств признаков. Такой подбор позволяет найти наиболее оптимальное подмножество признаков, но, очевидно, он является достаточно трудоемким (нужно перебрать $2^{n}$ вариантов, где $n$ - число признаков), поэтому подходит только для датасетов с небольшим количеством признаков."
   ]
  },
  {
   "cell_type": "markdown",
   "metadata": {
    "id": "kqDrhuvidfJp"
   },
   "source": [
    "Еще одна группа методов отбора признаков - _встроенные в модели_. Они используют эвристики, заложенные в обучающие модели, для оценки важности признаков.\n",
    "\n",
    "- Например, в случае работы с линейными моделями мы имеем зависимость целевой переменной от взвешенной суммы признаков $$a(x) = \\sum_{i=1}^{n}w_{i}x^{i}.$$ Здесь, если признаки масштабированы, веса будут являться показателями информативности признаков: чем больше вес, тем больший вклад данный признак вносит в значение целевой переменной. На основе этого показателя можно проводить отбор признаков. Также, вспоминая уроки по линейным моделям, можно упомянуть, что использование $L_{1}$-регуляризации приводит к занулению весов наименее важных признаков, то есть к их отбрасыванию, при этом больший коэффициент регуляризации будет приводить к большему количеству зануленных весов."
   ]
  },
  {
   "cell_type": "markdown",
   "metadata": {
    "id": "iMFGIpqQdfJr"
   },
   "source": [
    "- В случае использования решающих деревьев и их композиций, где в каждой вершине происходит разбиение на два поддерева путем сравнивания значения одного признака с некоторым значением порога, важность признака можно оценивать по тому, насколько он уменьшает значение критерия информативности, по которому оценивается качество разбиения: $$Q(X_{m}, j, t) = H(X_{m}) - \\frac{|X_{l}|}{|X_{m}|}H(X_{l}) - \\frac{|X_{r}|}{|X_{m}|}H(X_{r}),$$ где $X_{m}$ - множество объектов, попавших в вершину на данном шаге, $X_{l}$ и $X_{r}$ - множества, попадающие в левое и правое поддерево, соответственно, после разбиения. $H(X)$ - критерий информативности. \n",
    "    \n",
    "    Чем сильнее падает критерий информативности при разбиении по данному признаку (то есть чем выше $Q$), тем этот признак важнее. Таким образом, важность $j$-го признака можно оценить путем вычисления суммы уменьшений критерия информативности по всем вершинам, в которых делалось разбиение по данному признаку. Чем больше эта сумма, тем важнее данный признак был при построении дерева. В случае композиций деревьев этот показатель суммируется по всем деревьям."
   ]
  },
  {
   "cell_type": "markdown",
   "metadata": {
    "id": "suyYET13dfJr"
   },
   "source": [
    "**Текст, выделенный полужирным шрифтом**### Понижение размерности"
   ]
  },
  {
   "cell_type": "markdown",
   "metadata": {
    "id": "8w8aSllUdfJs"
   },
   "source": [
    "Кроме отбора признаков, который не всегда оптимален в плане сохранения максимума полезной информации, существуют еще методы понижения размерности путем формирования новых признаков на основе старых. Новых признаков при использовании такого метода должно быть меньше, чем исходных, при условии сохранения максимально возможного количества информации из исходных признаков. Например, объединение нескольких признаков в линейную комбинацию:\n",
    "\n",
    "$$z_{ij}=\\sum_{k=1}^{n}w_{jk}x_{ik},$$\n",
    "\n",
    "где $x_{ij}$ - исходные признаки, $z_{ij}$ - новые принаки."
   ]
  },
  {
   "cell_type": "markdown",
   "metadata": {
    "id": "U2iJ7XBhdfJt"
   },
   "source": [
    "Простейшим методов такого понижения размерности является метод _случайных проекций_, который заключается в преобразованиях, сохраняющих расстояния и снижающих размерности. Существование таких преобразований доказано для выборок, в которых объектов меньше, чем признаков. Веса при всех признаках в таком методе можно выбирать случайно. При этом не факт, что мы попадем в оптимальное преобразование, но практика показывает, что метод работает, если размерность нового пространства признаков\n",
    "\n",
    "$$d > \\frac{8\\text{ln}l}{\\varepsilon^{2}},$$\n",
    "\n",
    "где $l$ - количество объектов, $\\varepsilon$ - максимальное изменение расстояния между объектами (лемма о малом искажении или лемма Джонсона-Линденштрауса)."
   ]
  },
  {
   "cell_type": "markdown",
   "metadata": {
    "id": "7RKYQxgMdfJu"
   },
   "source": [
    "#### Метод главных компонент (PCA)"
   ]
  },
  {
   "cell_type": "markdown",
   "metadata": {
    "id": "A7frA6OrdfJv"
   },
   "source": [
    "Одним из наиболее известных и широко применяемых методов понижения размерности является _метод главных компонент (principal component analysis, PCA)_. Он заключается в приближении матрицы признаков матрицей меньшего ранга - так называемом низкоранговом приближении.\n",
    "\n",
    "Запишем показанную ранее формулу линейного преобразования признаков в матричном виде:\n",
    "\n",
    "$$Z = XW^{T},$$\n",
    "\n",
    "где $X$ - матрица \"объекты-признаки\", где по строкам отложены объекты, а по столбцам - значения признаков, $Z$ - матрица новых признаков, $W^{T}$ - транспонированная матрица весов. Приближение заключается формировании новой матрицы признаков $\\tilde{X}=ZW\\approx X$ с возможностью восстанавливания старых признаков по новым с максимальным уровнем точности, или, если говорить иначе, чтобы их различие было минимальным:\n",
    "\n",
    "$$\\|ZW - X\\|^{2} \\rightarrow \\underset{Z, W}{\\text{min}}.$$"
   ]
  },
  {
   "cell_type": "markdown",
   "metadata": {
    "id": "6oGhpkBfdfJv"
   },
   "source": [
    "При этом метод главных компонент предполагает, что матрица весов должна быть ортогональной, то есть произведение $WW^{T}$ должно равняться единичной матрице. Восстановленная матрица $ZW$ может иметь ранг меньший, чем исходная $X$, поэтому приближение будет называться низкоранговым."
   ]
  },
  {
   "cell_type": "markdown",
   "metadata": {
    "id": "P45TTDjedfJw"
   },
   "source": [
    "Геометрически метод можно представить как проецирование признаков на гиперплоскость с максимизацией дисперсии получаемой выборки."
   ]
  },
  {
   "cell_type": "markdown",
   "metadata": {
    "id": "3dV8i8cDdfJx"
   },
   "source": [
    "Если ранг матрицы исходных признаков $rank(X) \\geq d$, где $d$ - число новых признаков, то минимум функционала различия, описанного выше, достигается тогда, когда в качестве строк матрицы $W$ используются собственные векторы матрицы $X^{T}X$ , соответствующие максимальным собственным значениям $\\lambda_{1},...,\\lambda_{d}$. Максимальные собственные значения и называются главными компонентами, от чего пошло название метода. Первая главная компонента соответствует максимальному собственному значению и т.д."
   ]
  },
  {
   "cell_type": "markdown",
   "metadata": {
    "id": "VvLN4XJLdfJx"
   },
   "source": [
    "Некоторые полезные свойства метода:\n",
    "\n",
    "- Матрица $Z$ при этом будет такой, что $Z^{T}Z = \\Lambda = diag(\\lambda_{1},...,\\lambda_{d})$.\n",
    "\n",
    "\n",
    "- Минимизированный функционал ошибки будет равен $$\\|ZW - X\\|^{2} = \\|X\\|^{2} - tr\\Lambda,$$ где $tr\\Lambda,$ - след матрицы $\\Lambda$, то есть сумма всех собственных значений $\\lambda_{1},...,\\lambda_{d}$, а $\\|X\\|^{2}$ - сумма всех собственных значений исходной матрицы $\\lambda_{1},...,\\lambda_{n}$, таким образом $$\\|ZW - X\\|^{2} = \\sum_{j=d+1}^{n}\\lambda_{j},$$ то есть значение функционала ошибки будет равно сумме собственных значений, которые не были взяты в получаемое разложение. Поэтому логично брать в разложение максимальные собственные значения, оставляя минимальные.\n",
    "\n",
    "\n",
    "- Матрица $X^{T}X$ - матрица ковариации, то есть матрица, которая характеризует дисперсию выборки. Дисперсия выборки после проецирования будет равна собственному значению $\\lambda$, поэтому логично, что первым берется собственный вектор, соответствующий максимальному собственному значению - нам нужно сохранить максимум дисперсии."
   ]
  },
  {
   "cell_type": "markdown",
   "metadata": {
    "id": "-pPzjbW8dfJy"
   },
   "source": [
    "Таким образом, для реализации метода главных компонент нужно :\n",
    "- найти собственные значения матрицы $X^{T}X$;\n",
    "- отобрать $d$ максимальных;\n",
    "- составить матрицу $W^{T}$, столбцы которой будут являться собственными векторами, соответствующими отобранным собственным значениям, расположенным в порядке убывания;\n",
    "- получить новую матрицу \"объекты-признаки\", умножив исходную матрицу $X$ на матрицу весов $W$:\n",
    "\n",
    "$$Z=XW.$$"
   ]
  },
  {
   "cell_type": "markdown",
   "metadata": {
    "id": "LnYvDiOadfJz"
   },
   "source": [
    "#### PCA и SVD"
   ]
  },
  {
   "cell_type": "markdown",
   "metadata": {
    "id": "Thkg-tSXdfJ0"
   },
   "source": [
    "Сформулировав принцип реализации метода главных компонент, нельзя не заметить его родство с сингулярным разложением матриц (SVD). Вспомним, что сингулярное разложение матрицы - это разложение вида\n",
    "\n",
    "$$X=UDV^{T},$$\n",
    "\n",
    "где столбцы ортогональной матрицы $U$ - это собственные векторы матрицы $XX^{T}$, столбцы ортогональной матрицы $V$ - собственные векторы матрицы $X^{T}X$, а на главной диагонали диагональной матрицы $D$ расположены собственные значения матриц $XX^{T}$ и $X^{T}X$ (они равны и также называются сингулярными числами матрицы $X$).\n",
    "\n",
    "Если число новых признаков $d$ равно старому числу признаков $n$, то можно приравнять разложения\n",
    "\n",
    "$$X=ZW=UDV^{T}.$$\n",
    "\n",
    "При этом матрицы $W$ и $V^{T}$ состоят из собственных векторов матрицы $X^{T}X$, то есть они равны при $Z=UD$."
   ]
  },
  {
   "cell_type": "markdown",
   "metadata": {
    "id": "8tzfpn9zdfJ0"
   },
   "source": [
    "Получается, что метод главных компонент - в своем роде \"урезанная версия\" сингулярного разложения, из которого убрали минимальные собственные значения с соответствующими собственными векторами. \n",
    "Таким образом, для реализации понижения размерности методом главных компонент с помощью SVD нужно:\n",
    "- найти сингулярное разложение вектора $X$;\n",
    "- сформировать из столбцов матрицы $V$, соответствующих $d$ наибольшим сингулярным числам, матрицу весов $W$;\n",
    "- получить новую матрицу \"объекты-признаки\", умножив исходную матрицу $X$ на матрицу весов $W$:\n",
    "\n",
    "$$Z=XW.$$"
   ]
  },
  {
   "cell_type": "markdown",
   "metadata": {
    "id": "dWEQalcAdfJ1"
   },
   "source": [
    "Для закрепления теории реализуем PCA с помощью Python."
   ]
  },
  {
   "cell_type": "code",
   "execution_count": 1,
   "metadata": {
    "id": "kSmUQy4ZdfJ2"
   },
   "outputs": [],
   "source": [
    "import numpy as np\n",
    "from sklearn import datasets\n",
    "import matplotlib.pyplot as plt"
   ]
  },
  {
   "cell_type": "code",
   "execution_count": 2,
   "metadata": {
    "colab": {
     "base_uri": "https://localhost:8080/"
    },
    "id": "m3d93Gx2dfJ6",
    "outputId": "8132b199-b478-45d9-9707-84d9f6a2c170"
   },
   "outputs": [
    {
     "name": "stdout",
     "output_type": "stream",
     "text": [
      "[[5.1 3.5 1.4 0.2]\n",
      " [4.9 3.  1.4 0.2]\n",
      " [4.7 3.2 1.3 0.2]\n",
      " [4.6 3.1 1.5 0.2]\n",
      " [5.  3.6 1.4 0.2]\n",
      " [5.4 3.9 1.7 0.4]\n",
      " [4.6 3.4 1.4 0.3]\n",
      " [5.  3.4 1.5 0.2]\n",
      " [4.4 2.9 1.4 0.2]\n",
      " [4.9 3.1 1.5 0.1]\n",
      " [5.4 3.7 1.5 0.2]\n",
      " [4.8 3.4 1.6 0.2]\n",
      " [4.8 3.  1.4 0.1]\n",
      " [4.3 3.  1.1 0.1]\n",
      " [5.8 4.  1.2 0.2]\n",
      " [5.7 4.4 1.5 0.4]\n",
      " [5.4 3.9 1.3 0.4]\n",
      " [5.1 3.5 1.4 0.3]\n",
      " [5.7 3.8 1.7 0.3]\n",
      " [5.1 3.8 1.5 0.3]\n",
      " [5.4 3.4 1.7 0.2]\n",
      " [5.1 3.7 1.5 0.4]\n",
      " [4.6 3.6 1.  0.2]\n",
      " [5.1 3.3 1.7 0.5]\n",
      " [4.8 3.4 1.9 0.2]\n",
      " [5.  3.  1.6 0.2]\n",
      " [5.  3.4 1.6 0.4]\n",
      " [5.2 3.5 1.5 0.2]\n",
      " [5.2 3.4 1.4 0.2]\n",
      " [4.7 3.2 1.6 0.2]\n",
      " [4.8 3.1 1.6 0.2]\n",
      " [5.4 3.4 1.5 0.4]\n",
      " [5.2 4.1 1.5 0.1]\n",
      " [5.5 4.2 1.4 0.2]\n",
      " [4.9 3.1 1.5 0.2]\n",
      " [5.  3.2 1.2 0.2]\n",
      " [5.5 3.5 1.3 0.2]\n",
      " [4.9 3.6 1.4 0.1]\n",
      " [4.4 3.  1.3 0.2]\n",
      " [5.1 3.4 1.5 0.2]\n",
      " [5.  3.5 1.3 0.3]\n",
      " [4.5 2.3 1.3 0.3]\n",
      " [4.4 3.2 1.3 0.2]\n",
      " [5.  3.5 1.6 0.6]\n",
      " [5.1 3.8 1.9 0.4]\n",
      " [4.8 3.  1.4 0.3]\n",
      " [5.1 3.8 1.6 0.2]\n",
      " [4.6 3.2 1.4 0.2]\n",
      " [5.3 3.7 1.5 0.2]\n",
      " [5.  3.3 1.4 0.2]\n",
      " [7.  3.2 4.7 1.4]\n",
      " [6.4 3.2 4.5 1.5]\n",
      " [6.9 3.1 4.9 1.5]\n",
      " [5.5 2.3 4.  1.3]\n",
      " [6.5 2.8 4.6 1.5]\n",
      " [5.7 2.8 4.5 1.3]\n",
      " [6.3 3.3 4.7 1.6]\n",
      " [4.9 2.4 3.3 1. ]\n",
      " [6.6 2.9 4.6 1.3]\n",
      " [5.2 2.7 3.9 1.4]\n",
      " [5.  2.  3.5 1. ]\n",
      " [5.9 3.  4.2 1.5]\n",
      " [6.  2.2 4.  1. ]\n",
      " [6.1 2.9 4.7 1.4]\n",
      " [5.6 2.9 3.6 1.3]\n",
      " [6.7 3.1 4.4 1.4]\n",
      " [5.6 3.  4.5 1.5]\n",
      " [5.8 2.7 4.1 1. ]\n",
      " [6.2 2.2 4.5 1.5]\n",
      " [5.6 2.5 3.9 1.1]\n",
      " [5.9 3.2 4.8 1.8]\n",
      " [6.1 2.8 4.  1.3]\n",
      " [6.3 2.5 4.9 1.5]\n",
      " [6.1 2.8 4.7 1.2]\n",
      " [6.4 2.9 4.3 1.3]\n",
      " [6.6 3.  4.4 1.4]\n",
      " [6.8 2.8 4.8 1.4]\n",
      " [6.7 3.  5.  1.7]\n",
      " [6.  2.9 4.5 1.5]\n",
      " [5.7 2.6 3.5 1. ]\n",
      " [5.5 2.4 3.8 1.1]\n",
      " [5.5 2.4 3.7 1. ]\n",
      " [5.8 2.7 3.9 1.2]\n",
      " [6.  2.7 5.1 1.6]\n",
      " [5.4 3.  4.5 1.5]\n",
      " [6.  3.4 4.5 1.6]\n",
      " [6.7 3.1 4.7 1.5]\n",
      " [6.3 2.3 4.4 1.3]\n",
      " [5.6 3.  4.1 1.3]\n",
      " [5.5 2.5 4.  1.3]\n",
      " [5.5 2.6 4.4 1.2]\n",
      " [6.1 3.  4.6 1.4]\n",
      " [5.8 2.6 4.  1.2]\n",
      " [5.  2.3 3.3 1. ]\n",
      " [5.6 2.7 4.2 1.3]\n",
      " [5.7 3.  4.2 1.2]\n",
      " [5.7 2.9 4.2 1.3]\n",
      " [6.2 2.9 4.3 1.3]\n",
      " [5.1 2.5 3.  1.1]\n",
      " [5.7 2.8 4.1 1.3]\n",
      " [6.3 3.3 6.  2.5]\n",
      " [5.8 2.7 5.1 1.9]\n",
      " [7.1 3.  5.9 2.1]\n",
      " [6.3 2.9 5.6 1.8]\n",
      " [6.5 3.  5.8 2.2]\n",
      " [7.6 3.  6.6 2.1]\n",
      " [4.9 2.5 4.5 1.7]\n",
      " [7.3 2.9 6.3 1.8]\n",
      " [6.7 2.5 5.8 1.8]\n",
      " [7.2 3.6 6.1 2.5]\n",
      " [6.5 3.2 5.1 2. ]\n",
      " [6.4 2.7 5.3 1.9]\n",
      " [6.8 3.  5.5 2.1]\n",
      " [5.7 2.5 5.  2. ]\n",
      " [5.8 2.8 5.1 2.4]\n",
      " [6.4 3.2 5.3 2.3]\n",
      " [6.5 3.  5.5 1.8]\n",
      " [7.7 3.8 6.7 2.2]\n",
      " [7.7 2.6 6.9 2.3]\n",
      " [6.  2.2 5.  1.5]\n",
      " [6.9 3.2 5.7 2.3]\n",
      " [5.6 2.8 4.9 2. ]\n",
      " [7.7 2.8 6.7 2. ]\n",
      " [6.3 2.7 4.9 1.8]\n",
      " [6.7 3.3 5.7 2.1]\n",
      " [7.2 3.2 6.  1.8]\n",
      " [6.2 2.8 4.8 1.8]\n",
      " [6.1 3.  4.9 1.8]\n",
      " [6.4 2.8 5.6 2.1]\n",
      " [7.2 3.  5.8 1.6]\n",
      " [7.4 2.8 6.1 1.9]\n",
      " [7.9 3.8 6.4 2. ]\n",
      " [6.4 2.8 5.6 2.2]\n",
      " [6.3 2.8 5.1 1.5]\n",
      " [6.1 2.6 5.6 1.4]\n",
      " [7.7 3.  6.1 2.3]\n",
      " [6.3 3.4 5.6 2.4]\n",
      " [6.4 3.1 5.5 1.8]\n",
      " [6.  3.  4.8 1.8]\n",
      " [6.9 3.1 5.4 2.1]\n",
      " [6.7 3.1 5.6 2.4]\n",
      " [6.9 3.1 5.1 2.3]\n",
      " [5.8 2.7 5.1 1.9]\n",
      " [6.8 3.2 5.9 2.3]\n",
      " [6.7 3.3 5.7 2.5]\n",
      " [6.7 3.  5.2 2.3]\n",
      " [6.3 2.5 5.  1.9]\n",
      " [6.5 3.  5.2 2. ]\n",
      " [6.2 3.4 5.4 2.3]\n",
      " [5.9 3.  5.1 1.8]]\n"
     ]
    }
   ],
   "source": [
    "# Загрузим игрушечный датасет из sklearn\n",
    "iris = datasets.load_iris()\n",
    "X = iris.data\n",
    "\n",
    "print(X)"
   ]
  },
  {
   "cell_type": "code",
   "execution_count": 3,
   "metadata": {
    "id": "eE6X-RyIdfJ-"
   },
   "outputs": [],
   "source": [
    "# Для начала отмасштабируем выборку\n",
    "X_ = X.astype(float)\n",
    "\n",
    "rows, cols = X_.shape\n",
    "\n",
    "# центрирование - вычитание из каждого значения среднего по строке\n",
    "means = X_.mean(0)\n",
    "for i in range(rows):\n",
    "    for j in range(cols):\n",
    "        X_[i, j] -= means[j]\n",
    "\n",
    "# деление каждого значения на стандартное отклонение\n",
    "std = np.std(X_, axis=0)\n",
    "for i in range(cols):\n",
    "    for j in range(rows):\n",
    "        X_[j][i] /= std[i]"
   ]
  },
  {
   "cell_type": "code",
   "execution_count": 4,
   "metadata": {
    "id": "ItFOmLW9dfKB",
    "outputId": "0b507805-c106-4539-d15a-4dc8327b764f"
   },
   "outputs": [
    {
     "name": "stdout",
     "output_type": "stream",
     "text": [
      "Собственные значения в порядке убывания:\n",
      "437.77467247979905\n",
      "137.10457072021052\n",
      "22.013531335697255\n",
      "3.107225464292904\n"
     ]
    }
   ],
   "source": [
    "# Найдем собственные векторы и собственные значения\n",
    " \n",
    "covariance_matrix = X_.T.dot(X_)\n",
    "\n",
    "eig_values, eig_vectors = np.linalg.eig(covariance_matrix)\n",
    "\n",
    "# сформируем список кортежей (собственное значение, собственный вектор)\n",
    "eig_pairs = [(np.abs(eig_values[i]), eig_vectors[:, i]) for i in range(len(eig_values))]\n",
    "\n",
    "# и отсортируем список по убыванию собственных значений\n",
    "eig_pairs.sort(key=lambda x: x[0], reverse=True)\n",
    "\n",
    "print('Собственные значения в порядке убывания:')\n",
    "for i in eig_pairs:\n",
    "    print(i[0])"
   ]
  },
  {
   "cell_type": "markdown",
   "metadata": {
    "id": "9mdEDwm2dfKD"
   },
   "source": [
    "Оценим долю дисперсии, которая описывается найденными компонентами."
   ]
  },
  {
   "cell_type": "code",
   "execution_count": 5,
   "metadata": {
    "id": "Ct-1I70mdfKE",
    "outputId": "ab04c5c2-649d-4f6f-e849-3791203481d2"
   },
   "outputs": [
    {
     "name": "stdout",
     "output_type": "stream",
     "text": [
      "Доля дисперсии, описвыаемая каждой из компонент \n",
      "[72.96244541329987, 22.850761786701764, 3.668921889282877, 0.5178709107154842]\n",
      "Кумулятивная доля дисперсии по компонентам \n",
      "[ 72.96244541  95.8132072   99.48212909 100.        ]\n"
     ]
    }
   ],
   "source": [
    "eig_sum = sum(eig_values)\n",
    "var_exp = [(i / eig_sum) * 100 for i in sorted(eig_values, reverse=True)]\n",
    "cum_var_exp = np.cumsum(var_exp)\n",
    "print(f'Доля дисперсии, описвыаемая каждой из компонент \\n{var_exp}')\n",
    "\n",
    "# а теперя оценим кумулятивную (то есть накапливаемую) дисперсию при учитывании каждой из компонент\n",
    "print(f'Кумулятивная доля дисперсии по компонентам \\n{cum_var_exp}')"
   ]
  },
  {
   "cell_type": "markdown",
   "metadata": {
    "id": "NE15sfLtdfKH"
   },
   "source": [
    "Таким образом, первая главная компонента описывает почти 73% информации, а первые две в сумме - 95.8%. В то же время последняя компонента описывает всего 0.5% и может быть отброжена без страха значительных потерь в качестве нашего анализа. Мы отбросим последние две компоненты, оставив первые две."
   ]
  },
  {
   "cell_type": "code",
   "execution_count": 6,
   "metadata": {
    "id": "z4xcGvf7dfKI",
    "outputId": "e406100f-3bd4-40fb-ce09-15db12e77a12"
   },
   "outputs": [
    {
     "name": "stdout",
     "output_type": "stream",
     "text": [
      "Матрица весов W:\n",
      " [[ 0.52106591 -0.37741762]\n",
      " [-0.26934744 -0.92329566]\n",
      " [ 0.5804131  -0.02449161]\n",
      " [ 0.56485654 -0.06694199]]\n"
     ]
    }
   ],
   "source": [
    "# Сформируем вектор весов из собственных векторов, соответствующих первым двум главным компонентам\n",
    "W = np.hstack((eig_pairs[0][1].reshape(4,1), eig_pairs[1][1].reshape(4,1)))\n",
    "\n",
    "print(f'Матрица весов W:\\n', W)"
   ]
  },
  {
   "cell_type": "code",
   "execution_count": 7,
   "metadata": {
    "id": "n04tyd6xdfKL"
   },
   "outputs": [],
   "source": [
    "# Сформируем новую матрицу \"объекты-признаки\"\n",
    "Z = X_.dot(W)"
   ]
  },
  {
   "cell_type": "code",
   "execution_count": 8,
   "metadata": {
    "id": "CBqTYO6udfKO",
    "outputId": "8e8e6a9d-f8fa-4c1a-ea3f-84a9bd859bed"
   },
   "outputs": [
    {
     "data": {
      "image/png": "[encoded data removed]",
      "text/plain": [
       "<Figure size 432x288 with 1 Axes>"
      ]
     },
     "metadata": {
      "needs_background": "light"
     },
     "output_type": "display_data"
    }
   ],
   "source": [
    "plt.figure()\n",
    "y = iris.target\n",
    "for c, i in zip(\"rgb\", [0, 1, 2]):\n",
    "    plt.scatter(Z[y==i, 0], Z[y==i, 1], c=c)\n",
    "plt.xlabel('Главная компонента 1')\n",
    "plt.ylabel('Главная компонента 2')\n",
    "plt.title('PCA датасета IRIS')\n",
    "plt.show()"
   ]
  },
  {
   "cell_type": "markdown",
   "metadata": {
    "id": "Y7P4Be8PdfKQ"
   },
   "source": [
    "Таким образом, мы перешли от четырехмерного пространства признаков к двумерному и при этом классы остались разделимы в пространстве, то есть классификация возможна."
   ]
  },
  {
   "cell_type": "markdown",
   "metadata": {
    "id": "q896KWx0dfKR"
   },
   "source": [
    "PCA наиболее хорошо работает, когда собственные значения $\\lambda$ на каком-то участке графика распределения убывают скачкообразно (критерий крутого склона), другими словами, если существуют предпосылки к тому, что следует решать задачу в пространстве меньшей размерности. Если же они убывают монотонно, следует рассмотреть вариант использования других методов работы с пространством признаков."
   ]
  },
  {
   "cell_type": "markdown",
   "metadata": {
    "id": "y6YHvcPvdfKS"
   },
   "source": [
    "## Дополнительные материалы"
   ]
  },
  {
   "cell_type": "markdown",
   "metadata": {
    "id": "pQKbma5FdfKT"
   },
   "source": [
    "1. [Методы отбора признаков](https://habr.com/ru/company/aligntechnology/blog/303750/)\n",
    "2. [Взаимная информация](https://ru.wikipedia.org/wiki/%D0%92%D0%B7%D0%B0%D0%B8%D0%BC%D0%BD%D0%B0%D1%8F_%D0%B8%D0%BD%D1%84%D0%BE%D1%80%D0%BC%D0%B0%D1%86%D0%B8%D1%8F)\n",
    "3. [Методы понижения размерности](http://www.machinelearning.ru/wiki/images/0/06/SLT%2C_lecture_8.pdf)\n",
    "4. [Лемма о малом искажении](https://ru.wikipedia.org/wiki/%D0%9B%D0%B5%D0%BC%D0%BC%D0%B0_%D0%BE_%D0%BC%D0%B0%D0%BB%D0%BE%D0%BC_%D0%B8%D1%81%D0%BA%D0%B0%D0%B6%D0%B5%D0%BD%D0%B8%D0%B8)\n",
    "5. [PCA from Scratch in Python](https://github.com/bhattbhavesh91/pca-from-scratch-iris-dataset)"
   ]
  },
  {
   "cell_type": "markdown",
   "metadata": {
    "id": "LJqJSSgyghWZ"
   },
   "source": [
    "## Домашнее задание 8"
   ]
  },
  {
   "cell_type": "markdown",
   "metadata": {
    "id": "b-eNSDPndfKU"
   },
   "source": [
    "#### 1. Можно ли отобрать наиболее значимые признаки с помощью PCA?\n",
    "После того, как отработает метод главных компонент, матрица признаков переходит к новому базису. Причем процесс этот не обратим и обратно исходную матрицу не восстановить. Поэтому те компненты-признаки, которые образуются после применения PCA,не имеют  ничего общего с исходныи признаками. Следовательно наиболее значимые признаки с помощью PCA подобрать нельзя."
   ]
  },
  {
   "cell_type": "markdown",
   "metadata": {
    "id": "b-eNSDPndfKU"
   },
   "source": [
    "#### 2. (*) Написать свою реализацию метода главных компонент с помощью сингулярного разложения с использованием функции [numpy.linalg.svd()](https://docs.scipy.org/doc/numpy/reference/generated/numpy.linalg.svd.html)"
   ]
  },
  {
   "cell_type": "code",
   "execution_count": 9,
   "metadata": {
    "id": "kSmUQy4ZdfJ2"
   },
   "outputs": [],
   "source": [
    "import numpy as np\n",
    "from sklearn import datasets\n",
    "import matplotlib.pyplot as plt"
   ]
  },
  {
   "cell_type": "code",
   "execution_count": 10,
   "metadata": {
    "colab": {
     "base_uri": "https://localhost:8080/"
    },
    "id": "m3d93Gx2dfJ6",
    "outputId": "8132b199-b478-45d9-9707-84d9f6a2c170"
   },
   "outputs": [],
   "source": [
    "# Загрузим игрушечный датасет из sklearn\n",
    "iris = datasets.load_iris()\n",
    "X = iris.data"
   ]
  },
  {
   "cell_type": "code",
   "execution_count": 11,
   "metadata": {},
   "outputs": [
    {
     "name": "stdout",
     "output_type": "stream",
     "text": [
      "Матрица Sigma размер:(150, 4) :\n",
      "[[95.95991387  0.          0.          0.        ]\n",
      " [ 0.         17.76103366  0.          0.        ]\n",
      " [ 0.          0.          3.46093093  0.        ]\n",
      " [ 0.          0.          0.          1.88482631]\n",
      " [ 0.          0.          0.          0.        ]\n",
      " [ 0.          0.          0.          0.        ]\n",
      " [ 0.          0.          0.          0.        ]\n",
      " [ 0.          0.          0.          0.        ]\n",
      " [ 0.          0.          0.          0.        ]\n",
      " [ 0.          0.          0.          0.        ]\n",
      " [ 0.          0.          0.          0.        ]\n",
      " [ 0.          0.          0.          0.        ]\n",
      " [ 0.          0.          0.          0.        ]\n",
      " [ 0.          0.          0.          0.        ]\n",
      " [ 0.          0.          0.          0.        ]\n",
      " [ 0.          0.          0.          0.        ]\n",
      " [ 0.          0.          0.          0.        ]\n",
      " [ 0.          0.          0.          0.        ]\n",
      " [ 0.          0.          0.          0.        ]\n",
      " [ 0.          0.          0.          0.        ]\n",
      " [ 0.          0.          0.          0.        ]\n",
      " [ 0.          0.          0.          0.        ]\n",
      " [ 0.          0.          0.          0.        ]\n",
      " [ 0.          0.          0.          0.        ]\n",
      " [ 0.          0.          0.          0.        ]\n",
      " [ 0.          0.          0.          0.        ]\n",
      " [ 0.          0.          0.          0.        ]\n",
      " [ 0.          0.          0.          0.        ]\n",
      " [ 0.          0.          0.          0.        ]\n",
      " [ 0.          0.          0.          0.        ]\n",
      " [ 0.          0.          0.          0.        ]\n",
      " [ 0.          0.          0.          0.        ]\n",
      " [ 0.          0.          0.          0.        ]\n",
      " [ 0.          0.          0.          0.        ]\n",
      " [ 0.          0.          0.          0.        ]\n",
      " [ 0.          0.          0.          0.        ]\n",
      " [ 0.          0.          0.          0.        ]\n",
      " [ 0.          0.          0.          0.        ]\n",
      " [ 0.          0.          0.          0.        ]\n",
      " [ 0.          0.          0.          0.        ]\n",
      " [ 0.          0.          0.          0.        ]\n",
      " [ 0.          0.          0.          0.        ]\n",
      " [ 0.          0.          0.          0.        ]\n",
      " [ 0.          0.          0.          0.        ]\n",
      " [ 0.          0.          0.          0.        ]\n",
      " [ 0.          0.          0.          0.        ]\n",
      " [ 0.          0.          0.          0.        ]\n",
      " [ 0.          0.          0.          0.        ]\n",
      " [ 0.          0.          0.          0.        ]\n",
      " [ 0.          0.          0.          0.        ]\n",
      " [ 0.          0.          0.          0.        ]\n",
      " [ 0.          0.          0.          0.        ]\n",
      " [ 0.          0.          0.          0.        ]\n",
      " [ 0.          0.          0.          0.        ]\n",
      " [ 0.          0.          0.          0.        ]\n",
      " [ 0.          0.          0.          0.        ]\n",
      " [ 0.          0.          0.          0.        ]\n",
      " [ 0.          0.          0.          0.        ]\n",
      " [ 0.          0.          0.          0.        ]\n",
      " [ 0.          0.          0.          0.        ]\n",
      " [ 0.          0.          0.          0.        ]\n",
      " [ 0.          0.          0.          0.        ]\n",
      " [ 0.          0.          0.          0.        ]\n",
      " [ 0.          0.          0.          0.        ]\n",
      " [ 0.          0.          0.          0.        ]\n",
      " [ 0.          0.          0.          0.        ]\n",
      " [ 0.          0.          0.          0.        ]\n",
      " [ 0.          0.          0.          0.        ]\n",
      " [ 0.          0.          0.          0.        ]\n",
      " [ 0.          0.          0.          0.        ]\n",
      " [ 0.          0.          0.          0.        ]\n",
      " [ 0.          0.          0.          0.        ]\n",
      " [ 0.          0.          0.          0.        ]\n",
      " [ 0.          0.          0.          0.        ]\n",
      " [ 0.          0.          0.          0.        ]\n",
      " [ 0.          0.          0.          0.        ]\n",
      " [ 0.          0.          0.          0.        ]\n",
      " [ 0.          0.          0.          0.        ]\n",
      " [ 0.          0.          0.          0.        ]\n",
      " [ 0.          0.          0.          0.        ]\n",
      " [ 0.          0.          0.          0.        ]\n",
      " [ 0.          0.          0.          0.        ]\n",
      " [ 0.          0.          0.          0.        ]\n",
      " [ 0.          0.          0.          0.        ]\n",
      " [ 0.          0.          0.          0.        ]\n",
      " [ 0.          0.          0.          0.        ]\n",
      " [ 0.          0.          0.          0.        ]\n",
      " [ 0.          0.          0.          0.        ]\n",
      " [ 0.          0.          0.          0.        ]\n",
      " [ 0.          0.          0.          0.        ]\n",
      " [ 0.          0.          0.          0.        ]\n",
      " [ 0.          0.          0.          0.        ]\n",
      " [ 0.          0.          0.          0.        ]\n",
      " [ 0.          0.          0.          0.        ]\n",
      " [ 0.          0.          0.          0.        ]\n",
      " [ 0.          0.          0.          0.        ]\n",
      " [ 0.          0.          0.          0.        ]\n",
      " [ 0.          0.          0.          0.        ]\n",
      " [ 0.          0.          0.          0.        ]\n",
      " [ 0.          0.          0.          0.        ]\n",
      " [ 0.          0.          0.          0.        ]\n",
      " [ 0.          0.          0.          0.        ]\n",
      " [ 0.          0.          0.          0.        ]\n",
      " [ 0.          0.          0.          0.        ]\n",
      " [ 0.          0.          0.          0.        ]\n",
      " [ 0.          0.          0.          0.        ]\n",
      " [ 0.          0.          0.          0.        ]\n",
      " [ 0.          0.          0.          0.        ]\n",
      " [ 0.          0.          0.          0.        ]\n",
      " [ 0.          0.          0.          0.        ]\n",
      " [ 0.          0.          0.          0.        ]\n",
      " [ 0.          0.          0.          0.        ]\n",
      " [ 0.          0.          0.          0.        ]\n",
      " [ 0.          0.          0.          0.        ]\n",
      " [ 0.          0.          0.          0.        ]\n",
      " [ 0.          0.          0.          0.        ]\n",
      " [ 0.          0.          0.          0.        ]\n",
      " [ 0.          0.          0.          0.        ]\n",
      " [ 0.          0.          0.          0.        ]\n",
      " [ 0.          0.          0.          0.        ]\n",
      " [ 0.          0.          0.          0.        ]\n",
      " [ 0.          0.          0.          0.        ]\n",
      " [ 0.          0.          0.          0.        ]\n",
      " [ 0.          0.          0.          0.        ]\n",
      " [ 0.          0.          0.          0.        ]\n",
      " [ 0.          0.          0.          0.        ]\n",
      " [ 0.          0.          0.          0.        ]\n",
      " [ 0.          0.          0.          0.        ]\n",
      " [ 0.          0.          0.          0.        ]\n",
      " [ 0.          0.          0.          0.        ]\n",
      " [ 0.          0.          0.          0.        ]\n",
      " [ 0.          0.          0.          0.        ]\n",
      " [ 0.          0.          0.          0.        ]\n",
      " [ 0.          0.          0.          0.        ]\n",
      " [ 0.          0.          0.          0.        ]\n",
      " [ 0.          0.          0.          0.        ]\n",
      " [ 0.          0.          0.          0.        ]\n",
      " [ 0.          0.          0.          0.        ]\n",
      " [ 0.          0.          0.          0.        ]\n",
      " [ 0.          0.          0.          0.        ]\n",
      " [ 0.          0.          0.          0.        ]\n",
      " [ 0.          0.          0.          0.        ]\n",
      " [ 0.          0.          0.          0.        ]\n",
      " [ 0.          0.          0.          0.        ]\n",
      " [ 0.          0.          0.          0.        ]\n",
      " [ 0.          0.          0.          0.        ]\n",
      " [ 0.          0.          0.          0.        ]\n",
      " [ 0.          0.          0.          0.        ]\n",
      " [ 0.          0.          0.          0.        ]\n",
      " [ 0.          0.          0.          0.        ]]\n",
      "Матрица U размер:(150, 150) :\n",
      "[[-0.06161685  0.12961144  0.0021386  ... -0.09343429 -0.09573864\n",
      "  -0.08085465]\n",
      " [-0.05807094  0.11101978  0.07067239 ...  0.03690405 -0.03153954\n",
      "   0.01309526]\n",
      " [-0.05676305  0.11796647  0.00434255 ...  0.03066199  0.19531473\n",
      "   0.13569909]\n",
      " ...\n",
      " [-0.0940593  -0.0498297  -0.04144001 ...  0.98181631 -0.02194514\n",
      "  -0.00894446]\n",
      " [-0.09488961 -0.05610123 -0.21297821 ... -0.02155617  0.94178018\n",
      "  -0.02971961]\n",
      " [-0.08847836 -0.0515697  -0.09575285 ... -0.0086052  -0.03021088\n",
      "   0.9736599 ]]\n",
      "Матрица V размер:(4, 4) :\n",
      "[[-0.75110816  0.2841749   0.50215472  0.32081425]\n",
      " [-0.38008617  0.5467445  -0.67524332 -0.31725607]\n",
      " [-0.51300886 -0.70866455 -0.05916621 -0.48074507]\n",
      " [-0.16790754 -0.34367081 -0.53701625  0.75187165]]\n"
     ]
    }
   ],
   "source": [
    "U, s, W = np.linalg.svd(X)\n",
    "# Транспонируем матрицу W\n",
    "V = W.T\n",
    "\n",
    "# s - список диагональных элементов, его нужно привести к виду диагональной матрицы для наглядности\n",
    "Sigma = np.zeros_like(X, dtype=float)\n",
    "Sigma[np.diag_indices(min(X.shape))] = s\n",
    "print(f'Матрица Sigma размер:{Sigma.shape} :\\n{Sigma}')\n",
    "print(f'Матрица U размер:{U.shape} :\\n{U}')\n",
    "print(f'Матрица V размер:{V.shape} :\\n{V}')"
   ]
  },
  {
   "cell_type": "code",
   "execution_count": 12,
   "metadata": {},
   "outputs": [
    {
     "name": "stdout",
     "output_type": "stream",
     "text": [
      "Доля дисперсии, описвыаемая каждой из компонент \n",
      "[80.59340691495326, 14.916876798004958, 2.906715976729492, 1.5830003103122972]\n",
      "Кумулятивная доля дисперсии по компонентам \n",
      "[ 80.59340691  95.51028371  98.41699969 100.        ]\n"
     ]
    }
   ],
   "source": [
    "eig_sum = sum(s)\n",
    "var_exp = [(i / eig_sum) * 100 for i in sorted(s, reverse=True)]\n",
    "cum_var_exp = np.cumsum(var_exp)\n",
    "print(f'Доля дисперсии, описвыаемая каждой из компонент \\n{var_exp}')\n",
    "\n",
    "# а теперя оценим кумулятивную (то есть накапливаемую) дисперсию при учитывании каждой из компонент\n",
    "print(f'Кумулятивная доля дисперсии по компонентам \\n{cum_var_exp}')"
   ]
  },
  {
   "cell_type": "markdown",
   "metadata": {},
   "source": [
    "Видим, что на первые два компонента приходится более 95% дисперсии. Занулим 3 и 4."
   ]
  },
  {
   "cell_type": "code",
   "execution_count": 13,
   "metadata": {},
   "outputs": [
    {
     "data": {
      "text/plain": [
       "array([[95.95991387,  0.        ],\n",
       "       [ 0.        , 17.76103366],\n",
       "       [ 0.        ,  0.        ],\n",
       "       [ 0.        ,  0.        ],\n",
       "       [ 0.        ,  0.        ],\n",
       "       [ 0.        ,  0.        ],\n",
       "       [ 0.        ,  0.        ],\n",
       "       [ 0.        ,  0.        ],\n",
       "       [ 0.        ,  0.        ],\n",
       "       [ 0.        ,  0.        ],\n",
       "       [ 0.        ,  0.        ],\n",
       "       [ 0.        ,  0.        ],\n",
       "       [ 0.        ,  0.        ],\n",
       "       [ 0.        ,  0.        ],\n",
       "       [ 0.        ,  0.        ],\n",
       "       [ 0.        ,  0.        ],\n",
       "       [ 0.        ,  0.        ],\n",
       "       [ 0.        ,  0.        ],\n",
       "       [ 0.        ,  0.        ],\n",
       "       [ 0.        ,  0.        ],\n",
       "       [ 0.        ,  0.        ],\n",
       "       [ 0.        ,  0.        ],\n",
       "       [ 0.        ,  0.        ],\n",
       "       [ 0.        ,  0.        ],\n",
       "       [ 0.        ,  0.        ],\n",
       "       [ 0.        ,  0.        ],\n",
       "       [ 0.        ,  0.        ],\n",
       "       [ 0.        ,  0.        ],\n",
       "       [ 0.        ,  0.        ],\n",
       "       [ 0.        ,  0.        ],\n",
       "       [ 0.        ,  0.        ],\n",
       "       [ 0.        ,  0.        ],\n",
       "       [ 0.        ,  0.        ],\n",
       "       [ 0.        ,  0.        ],\n",
       "       [ 0.        ,  0.        ],\n",
       "       [ 0.        ,  0.        ],\n",
       "       [ 0.        ,  0.        ],\n",
       "       [ 0.        ,  0.        ],\n",
       "       [ 0.        ,  0.        ],\n",
       "       [ 0.        ,  0.        ],\n",
       "       [ 0.        ,  0.        ],\n",
       "       [ 0.        ,  0.        ],\n",
       "       [ 0.        ,  0.        ],\n",
       "       [ 0.        ,  0.        ],\n",
       "       [ 0.        ,  0.        ],\n",
       "       [ 0.        ,  0.        ],\n",
       "       [ 0.        ,  0.        ],\n",
       "       [ 0.        ,  0.        ],\n",
       "       [ 0.        ,  0.        ],\n",
       "       [ 0.        ,  0.        ],\n",
       "       [ 0.        ,  0.        ],\n",
       "       [ 0.        ,  0.        ],\n",
       "       [ 0.        ,  0.        ],\n",
       "       [ 0.        ,  0.        ],\n",
       "       [ 0.        ,  0.        ],\n",
       "       [ 0.        ,  0.        ],\n",
       "       [ 0.        ,  0.        ],\n",
       "       [ 0.        ,  0.        ],\n",
       "       [ 0.        ,  0.        ],\n",
       "       [ 0.        ,  0.        ],\n",
       "       [ 0.        ,  0.        ],\n",
       "       [ 0.        ,  0.        ],\n",
       "       [ 0.        ,  0.        ],\n",
       "       [ 0.        ,  0.        ],\n",
       "       [ 0.        ,  0.        ],\n",
       "       [ 0.        ,  0.        ],\n",
       "       [ 0.        ,  0.        ],\n",
       "       [ 0.        ,  0.        ],\n",
       "       [ 0.        ,  0.        ],\n",
       "       [ 0.        ,  0.        ],\n",
       "       [ 0.        ,  0.        ],\n",
       "       [ 0.        ,  0.        ],\n",
       "       [ 0.        ,  0.        ],\n",
       "       [ 0.        ,  0.        ],\n",
       "       [ 0.        ,  0.        ],\n",
       "       [ 0.        ,  0.        ],\n",
       "       [ 0.        ,  0.        ],\n",
       "       [ 0.        ,  0.        ],\n",
       "       [ 0.        ,  0.        ],\n",
       "       [ 0.        ,  0.        ],\n",
       "       [ 0.        ,  0.        ],\n",
       "       [ 0.        ,  0.        ],\n",
       "       [ 0.        ,  0.        ],\n",
       "       [ 0.        ,  0.        ],\n",
       "       [ 0.        ,  0.        ],\n",
       "       [ 0.        ,  0.        ],\n",
       "       [ 0.        ,  0.        ],\n",
       "       [ 0.        ,  0.        ],\n",
       "       [ 0.        ,  0.        ],\n",
       "       [ 0.        ,  0.        ],\n",
       "       [ 0.        ,  0.        ],\n",
       "       [ 0.        ,  0.        ],\n",
       "       [ 0.        ,  0.        ],\n",
       "       [ 0.        ,  0.        ],\n",
       "       [ 0.        ,  0.        ],\n",
       "       [ 0.        ,  0.        ],\n",
       "       [ 0.        ,  0.        ],\n",
       "       [ 0.        ,  0.        ],\n",
       "       [ 0.        ,  0.        ],\n",
       "       [ 0.        ,  0.        ],\n",
       "       [ 0.        ,  0.        ],\n",
       "       [ 0.        ,  0.        ],\n",
       "       [ 0.        ,  0.        ],\n",
       "       [ 0.        ,  0.        ],\n",
       "       [ 0.        ,  0.        ],\n",
       "       [ 0.        ,  0.        ],\n",
       "       [ 0.        ,  0.        ],\n",
       "       [ 0.        ,  0.        ],\n",
       "       [ 0.        ,  0.        ],\n",
       "       [ 0.        ,  0.        ],\n",
       "       [ 0.        ,  0.        ],\n",
       "       [ 0.        ,  0.        ],\n",
       "       [ 0.        ,  0.        ],\n",
       "       [ 0.        ,  0.        ],\n",
       "       [ 0.        ,  0.        ],\n",
       "       [ 0.        ,  0.        ],\n",
       "       [ 0.        ,  0.        ],\n",
       "       [ 0.        ,  0.        ],\n",
       "       [ 0.        ,  0.        ],\n",
       "       [ 0.        ,  0.        ],\n",
       "       [ 0.        ,  0.        ],\n",
       "       [ 0.        ,  0.        ],\n",
       "       [ 0.        ,  0.        ],\n",
       "       [ 0.        ,  0.        ],\n",
       "       [ 0.        ,  0.        ],\n",
       "       [ 0.        ,  0.        ],\n",
       "       [ 0.        ,  0.        ],\n",
       "       [ 0.        ,  0.        ],\n",
       "       [ 0.        ,  0.        ],\n",
       "       [ 0.        ,  0.        ],\n",
       "       [ 0.        ,  0.        ],\n",
       "       [ 0.        ,  0.        ],\n",
       "       [ 0.        ,  0.        ],\n",
       "       [ 0.        ,  0.        ],\n",
       "       [ 0.        ,  0.        ],\n",
       "       [ 0.        ,  0.        ],\n",
       "       [ 0.        ,  0.        ],\n",
       "       [ 0.        ,  0.        ],\n",
       "       [ 0.        ,  0.        ],\n",
       "       [ 0.        ,  0.        ],\n",
       "       [ 0.        ,  0.        ],\n",
       "       [ 0.        ,  0.        ],\n",
       "       [ 0.        ,  0.        ],\n",
       "       [ 0.        ,  0.        ],\n",
       "       [ 0.        ,  0.        ],\n",
       "       [ 0.        ,  0.        ],\n",
       "       [ 0.        ,  0.        ],\n",
       "       [ 0.        ,  0.        ],\n",
       "       [ 0.        ,  0.        ],\n",
       "       [ 0.        ,  0.        ]])"
      ]
     },
     "execution_count": 13,
     "metadata": {},
     "output_type": "execute_result"
    }
   ],
   "source": [
    "n_elements = 2\n",
    "Sigma = Sigma[:, :n_elements]\n",
    "Sigma"
   ]
  },
  {
   "cell_type": "code",
   "execution_count": 14,
   "metadata": {},
   "outputs": [
    {
     "data": {
      "text/plain": [
       "array([[-0.75110816,  0.2841749 ],\n",
       "       [-0.38008617,  0.5467445 ],\n",
       "       [-0.51300886, -0.70866455],\n",
       "       [-0.16790754, -0.34367081]])"
      ]
     },
     "execution_count": 14,
     "metadata": {},
     "output_type": "execute_result"
    }
   ],
   "source": [
    "V = V[:,:n_elements]\n",
    "V"
   ]
  },
  {
   "cell_type": "code",
   "execution_count": 15,
   "metadata": {},
   "outputs": [
    {
     "data": {
      "text/plain": [
       "array([[5.0952927 , 3.50597743, 1.40192232, 0.20165319],\n",
       "       [4.74588049, 3.19610853, 1.46136967, 0.25800276],\n",
       "       [4.68667405, 3.21586325, 1.30954904, 0.19452725],\n",
       "       [4.61488457, 3.08894388, 1.46347879, 0.27002699],\n",
       "       [5.07488651, 3.50623125, 1.36428119, 0.1863997 ],\n",
       "       [5.52598407, 3.7330351 , 1.67566825, 0.28872322],\n",
       "       [4.731593  , 3.2288014 , 1.36216771, 0.21446447],\n",
       "       [5.00510918, 3.39830515, 1.47931372, 0.24418439],\n",
       "       [4.37933538, 2.93134058, 1.38864652, 0.25618379],\n",
       "       [4.80551481, 3.23360903, 1.48569239, 0.26393296],\n",
       "       [5.39533378, 3.70766642, 1.49514864, 0.2183418 ],\n",
       "       [4.89451945, 3.29088668, 1.51906398, 0.27146211],\n",
       "       [4.67854319, 3.16443092, 1.41000708, 0.24052709],\n",
       "       [4.30090163, 3.00174374, 1.08842179, 0.12739443],\n",
       "       [5.73037625, 4.07476895, 1.2813685 , 0.09359359],\n",
       "       [5.90310008, 4.12548386, 1.48153824, 0.16928199],\n",
       "       [5.45240789, 3.81002345, 1.36951483, 0.15684908],\n",
       "       [5.09813811, 3.49356935, 1.43489086, 0.21628344],\n",
       "       [5.67252863, 3.83336074, 1.71712893, 0.29503728],\n",
       "       [5.24878923, 3.60734078, 1.45368795, 0.21202774],\n",
       "       [5.29986481, 3.53615373, 1.70596661, 0.32150311],\n",
       "       [5.20754895, 3.55059319, 1.50590357, 0.23906608],\n",
       "       [4.74334279, 3.40687684, 0.98455159, 0.04314391],\n",
       "       [5.07083969, 3.32233292, 1.76893717, 0.36926573],\n",
       "       [4.94970159, 3.23314542, 1.74867904, 0.37036772],\n",
       "       [4.84716047, 3.20170004, 1.63284042, 0.32678525],\n",
       "       [5.02919404, 3.3542419 , 1.62178914, 0.30641344],\n",
       "       [5.17817863, 3.53081603, 1.49685472, 0.23746713],\n",
       "       [5.1156989 , 3.50572362, 1.43956345, 0.21690668],\n",
       "       [4.74185619, 3.15812199, 1.53916411, 0.29343286],\n",
       "       [4.76226239, 3.15786817, 1.57680524, 0.30868635],\n",
       "       [5.26876754, 3.54983175, 1.61882697, 0.28482655],\n",
       "       [5.43984736, 3.80926114, 1.34840366, 0.1483884 ],\n",
       "       [5.66186007, 3.99269672, 1.34076889, 0.12617827],\n",
       "       [4.80836022, 3.22120095, 1.51866093, 0.27856322],\n",
       "       [4.86175566, 3.3673674 , 1.28819283, 0.17009494],\n",
       "       [5.3348662 , 3.70156728, 1.39896015, 0.18006629],\n",
       "       [5.00754921, 3.47455364, 1.3129186 , 0.16892403],\n",
       "       [4.40502702, 2.99492717, 1.29286108, 0.21080717],\n",
       "       [5.06960106, 3.44239084, 1.49770776, 0.2470298 ],\n",
       "       [5.01525218, 3.46873075, 1.33995846, 0.18046949],\n",
       "       [4.16376449, 2.71622825, 1.47895328, 0.31513939],\n",
       "       [4.4931984 , 3.08360618, 1.25436691, 0.18599101],\n",
       "       [5.07897055, 3.37376525, 1.66847913, 0.32326588],\n",
       "       [5.32521082, 3.51794435, 1.7928099 , 0.35853215],\n",
       "       [4.68423401, 3.13961476, 1.47594416, 0.26978761],\n",
       "       [5.26433786, 3.60050177, 1.49725777, 0.23036602],\n",
       "       [4.64057621, 3.15253047, 1.36769335, 0.22465037],\n",
       "       [5.3308419 , 3.66358073, 1.47675459, 0.21549639],\n",
       "       [4.94262944, 3.37321273, 1.42202245, 0.22362393],\n",
       "       [6.82952989, 3.42653617, 4.73053859, 1.55646503],\n",
       "       [6.4086359 , 3.18810813, 4.50006614, 1.48808575],\n",
       "       [6.76058582, 3.28720873, 4.91743688, 1.64659503],\n",
       "       [5.33377668, 2.51333298, 4.05911467, 1.38004657],\n",
       "       [6.31517907, 3.03558872, 4.67198689, 1.57353201],\n",
       "       [5.77515913, 2.72696645, 4.3823591 , 1.48853968],\n",
       "       [6.42786321, 3.1374597 , 4.64847026, 1.55339959],\n",
       "       [4.85361651, 2.4651122 , 3.29482922, 1.0758955 ],\n",
       "       [6.41806583, 3.14883007, 4.60519678, 1.53470883],\n",
       "       [5.30109515, 2.56527294, 3.88337437, 1.30353974],\n",
       "       [4.77855373, 2.2933457 , 3.54328832, 1.1943103 ],\n",
       "       [5.94282296, 2.93674194, 4.21697503, 1.39976924],\n",
       "       [5.60361419, 2.72664616, 4.07142638, 1.36279093],\n",
       "       [6.11684586, 2.89674646, 4.62273344, 1.56808057],\n",
       "       [5.58920652, 2.90044405, 3.65587278, 1.17656935],\n",
       "       [6.53678641, 3.30768086, 4.46498848, 1.46143126],\n",
       "       [5.80452944, 2.74674361, 4.39140795, 1.49013862],\n",
       "       [5.71345291, 2.84092522, 4.0149412 , 1.32802825],\n",
       "       [5.83879524, 2.65654171, 4.65574893, 1.60647572],\n",
       "       [5.46235508, 2.69016093, 3.89653911, 1.29584677],\n",
       "       [6.14989484, 2.87271419, 4.73661659, 1.61665508],\n",
       "       [5.94115644, 2.99954464, 4.07324351, 1.33507863],\n",
       "       [6.10912037, 2.75665756, 4.92255513, 1.70397104],\n",
       "       [6.06706935, 2.87722311, 4.57604345, 1.55122814],\n",
       "       [6.23389992, 3.11839995, 4.33879362, 1.4301124 ],\n",
       "       [6.42820883, 3.21925567, 4.46584152, 1.47099393],\n",
       "       [6.54259741, 3.14175969, 4.8472772 , 1.63337506],\n",
       "       [6.61160123, 3.1106346 , 5.0423713 , 1.71554134],\n",
       "       [6.01841129, 2.87874686, 4.48423122, 1.51392834],\n",
       "       [5.49451106, 2.86798255, 3.55656412, 1.1397797 ],\n",
       "       [5.33538346, 2.62098282, 3.8208538 , 1.2724409 ],\n",
       "       [5.314144  , 2.65263799, 3.71134691, 1.22484211],\n",
       "       [5.68235564, 2.85460324, 3.92780157, 1.29135169],\n",
       "       [6.0434496 , 2.66217725, 5.01492406, 1.75118598],\n",
       "       [5.67554567, 2.65857223, 4.35461986, 1.4844478 ],\n",
       "       [6.24168515, 3.08803631, 4.42096432, 1.4665182 ],\n",
       "       [6.59481396, 3.23753152, 4.72757208, 1.57496713],\n",
       "       [5.92328795, 2.78903015, 4.51242046, 1.534684  ],\n",
       "       [5.72526244, 2.84854812, 4.01931746, 1.32900396],\n",
       "       [5.42194806, 2.60201199, 4.0206205 , 1.35523041],\n",
       "       [5.53676453, 2.58177123, 4.27455829, 1.46006622],\n",
       "       [6.1425375 , 2.96033305, 4.526948  , 1.52270396],\n",
       "       [5.65666399, 2.79101665, 4.02358701, 1.33672831],\n",
       "       [4.87402271, 2.46485839, 3.33247035, 1.09114899],\n",
       "       [5.61139942, 2.69628252, 4.15359708, 1.39919674],\n",
       "       [5.80530296, 2.8857948 , 4.08128132, 1.35018765],\n",
       "       [5.76406268, 2.82904722, 4.13349695, 1.37722599],\n",
       "       [6.10491615, 3.03022857, 4.30200553, 1.42442158],\n",
       "       [4.97434924, 2.64295627, 3.1157237 , 0.98490288],\n",
       "       [5.70158294, 2.8039548 , 4.07620568, 1.35666553],\n",
       "       [6.6925945 , 2.77557485, 5.9401857 , 2.11366288],\n",
       "       [5.92300206, 2.53678163, 5.07704158, 1.78938593],\n",
       "       [7.04649682, 3.06412125, 5.93666682, 2.08216084],\n",
       "       [6.42275768, 2.76206173, 5.48024087, 1.92900925],\n",
       "       [6.64399688, 2.80644612, 5.78273273, 2.0467501 ],\n",
       "       [7.49771457, 3.14982008, 6.56440553, 2.32716765],\n",
       "       [5.13834863, 2.1916301 , 4.42482214, 1.56152166],\n",
       "       [7.19643485, 3.06818901, 6.19994981, 2.18824312],\n",
       "       [6.54117056, 2.72255229, 5.78388211, 2.05596029],\n",
       "       [7.42367257, 3.28611747, 6.1245292 , 2.13501587],\n",
       "       [6.59771911, 3.0546709 , 5.142533  , 1.76189366],\n",
       "       [6.34674146, 2.76280159, 5.34048256, 1.87239547],\n",
       "       [6.77944498, 3.00885253, 5.57533127, 1.94175046],\n",
       "       [5.75479016, 2.41085594, 5.05357189, 1.7930184 ],\n",
       "       [5.9813148 , 2.51908074, 5.22263718, 1.85012914],\n",
       "       [6.57855155, 2.9348668 , 5.37612128, 1.8688761 ],\n",
       "       [6.5774331 , 2.9138197 , 5.42124352, 1.88932346],\n",
       "       [7.93613142, 3.51696664, 6.53832977, 2.27834722],\n",
       "       [7.44673665, 2.93399033, 6.95534007, 2.5078115 ],\n",
       "       [5.8017817 , 2.47213489, 5.00165261, 1.76562759],\n",
       "       [6.97458716, 3.0783069 , 5.77424492, 2.0149773 ],\n",
       "       [5.8041613 , 2.51903586, 4.90089823, 1.71998021],\n",
       "       [7.48958371, 3.09838775, 6.66486357, 2.3731675 ],\n",
       "       [6.20582798, 2.80811233, 4.98296656, 1.72304565],\n",
       "       [6.88399826, 3.05929118, 5.65227267, 1.96761789],\n",
       "       [7.2090179 , 3.2148631 , 5.89419944, 2.04926786],\n",
       "       [6.16702774, 2.82761324, 4.86878708, 1.67482363],\n",
       "       [6.20910128, 2.85295947, 4.88843721, 1.68013059],\n",
       "       [6.45170011, 2.72458368, 5.61678761, 1.98815351],\n",
       "       [7.07836761, 3.18949442, 5.71367983, 1.97888643],\n",
       "       [7.18289837, 3.09402129, 6.11748277, 2.15218979],\n",
       "       [8.00424223, 3.68769544, 6.27956573, 2.15587192],\n",
       "       [6.45454552, 2.7121756 , 5.64975615, 2.00278377],\n",
       "       [6.27816553, 2.8511819 , 5.01789057, 1.73268388],\n",
       "       [6.15013521, 2.59050415, 5.36931989, 1.90202165],\n",
       "       [7.47592704, 3.26532505, 6.26604488, 2.19443089],\n",
       "       [6.66025859, 2.90931078, 5.58181665, 1.9547504 ],\n",
       "       [6.5570269 , 2.91407352, 5.38360238, 1.87406997],\n",
       "       [6.12621535, 2.82812087, 4.79350481, 1.64431665],\n",
       "       [6.86962851, 3.11652481, 5.49793987, 1.89921925],\n",
       "       [6.78596906, 2.95263502, 5.7131341 , 2.00335628],\n",
       "       [6.82013719, 3.14944992, 5.33426189, 1.82957415],\n",
       "       [5.92300206, 2.53678163, 5.07704158, 1.78938593],\n",
       "       [6.94688336, 2.99572703, 5.90892758, 2.07806896],\n",
       "       [6.8953799 , 3.00965886, 5.78414682, 2.02613891],\n",
       "       [6.66546178, 2.99769195, 5.39325923, 1.86925995],\n",
       "       [6.13889606, 2.68777816, 5.13096763, 1.7954606 ],\n",
       "       [6.52794178, 2.94674481, 5.25756553, 1.81967836],\n",
       "       [6.5561332 , 2.91612734, 5.37737736, 1.87133766],\n",
       "       [6.1169056 , 2.72629392, 5.00472583, 1.74037685]])"
      ]
     },
     "execution_count": 15,
     "metadata": {},
     "output_type": "execute_result"
    }
   ],
   "source": [
    "# Создадим новую матрицу признаков с 4 признаками, но рангом 2\n",
    "B = U.dot(Sigma.dot(V.T))\n",
    "B"
   ]
  },
  {
   "cell_type": "code",
   "execution_count": 16,
   "metadata": {
    "scrolled": true
   },
   "outputs": [
    {
     "name": "stdout",
     "output_type": "stream",
     "text": [
      "Элементы диагональной матрицы [9.59599139e+01 1.77610337e+01 2.07617549e-14 2.38003498e-15]\n"
     ]
    }
   ],
   "source": [
    "# Проведем сингулярное разложение матрицы B\n",
    "U, s, W = np.linalg.svd(B)\n",
    "# Транспонируем матрицу W\n",
    "V = W.T\n",
    "print(\"Элементы диагональной матрицы\", s)"
   ]
  },
  {
   "cell_type": "markdown",
   "metadata": {},
   "source": [
    "Видим, что они практически равны 0.\n",
    "Сосздадим матрицу ризнаков С в новом двухмерном базисе через матрицу перехода"
   ]
  },
  {
   "cell_type": "code",
   "execution_count": 17,
   "metadata": {},
   "outputs": [
    {
     "data": {
      "text/plain": [
       "array([[-5.91274714e+00,  2.30203322e+00,  1.79717352e-15,\n",
       "        -1.11022302e-16],\n",
       "       [-5.57248242e+00,  1.97182599e+00,  1.86309301e-15,\n",
       "        -5.55111512e-17],\n",
       "       [-5.44697714e+00,  2.09520636e+00,  1.15012166e-15,\n",
       "        -1.11022302e-16],\n",
       "       [-5.43645948e+00,  1.87038151e+00,  2.02268757e-15,\n",
       "        -1.11022302e-16],\n",
       "       [-5.87564494e+00,  2.32829018e+00,  2.05564732e-15,\n",
       "         0.00000000e+00],\n",
       "       [-6.47759822e+00,  2.32464996e+00,  2.03656536e-15,\n",
       "         1.66533454e-16],\n",
       "       [-5.51597520e+00,  2.07090423e+00,  1.42941214e-15,\n",
       "        -2.77555756e-17],\n",
       "       [-5.85092859e+00,  2.14807482e+00,  1.60635394e-15,\n",
       "        -2.77555756e-17],\n",
       "       [-5.15891972e+00,  1.77506408e+00,  1.48839274e-15,\n",
       "         0.00000000e+00],\n",
       "       [-5.64500117e+00,  1.99000106e+00,  1.26287869e-15,\n",
       "         2.77555756e-17],\n",
       "       [-6.26539771e+00,  2.42576813e+00,  2.54657406e-15,\n",
       "        -8.32667268e-17],\n",
       "       [-5.75200785e+00,  2.02037338e+00,  1.93942085e-15,\n",
       "         8.32667268e-17],\n",
       "       [-5.48058085e+00,  1.97777558e+00,  1.76594850e-15,\n",
       "         5.55111512e-17],\n",
       "       [-4.95112411e+00,  2.04828749e+00,  1.58553726e-15,\n",
       "        -2.22044605e-16],\n",
       "       [-6.52596417e+00,  2.91606081e+00,  2.80418050e-15,\n",
       "         8.32667268e-17],\n",
       "       [-6.79037199e+00,  2.82500759e+00,  2.36789754e-15,\n",
       "        -2.77555756e-17],\n",
       "       [-6.27239468e+00,  2.60811578e+00,  2.05738204e-15,\n",
       "        -1.38777878e-16],\n",
       "       [-5.92953789e+00,  2.26766614e+00,  2.13717932e-15,\n",
       "        -2.77555756e-17],\n",
       "       [-6.64813130e+00,  2.38959506e+00,  2.44942955e-15,\n",
       "         5.55111512e-17],\n",
       "       [-6.09486463e+00,  2.36082303e+00,  2.26207941e-15,\n",
       "         2.77555756e-17],\n",
       "       [-6.25397363e+00,  2.12001187e+00,  2.18922103e-15,\n",
       "         5.55111512e-17],\n",
       "       [-6.07364677e+00,  2.27178150e+00,  2.06085149e-15,\n",
       "        -2.77555756e-17],\n",
       "       [-5.36999813e+00,  2.49808604e+00,  1.99146255e-15,\n",
       "        -9.02056208e-17],\n",
       "       [-6.04100482e+00,  1.87698371e+00,  1.54737334e-15,\n",
       "         5.55111512e-17],\n",
       "       [-5.90591050e+00,  1.80777402e+00,  2.30718222e-15,\n",
       "         0.00000000e+00],\n",
       "       [-5.75019501e+00,  1.85851056e+00,  1.91513472e-15,\n",
       "        -5.55111512e-17],\n",
       "       [-5.93581099e+00,  2.00847420e+00,  1.93942085e-15,\n",
       "        -1.66533454e-16],\n",
       "       [-6.03915884e+00,  2.25958425e+00,  2.59514632e-15,\n",
       "        -8.32667268e-17],\n",
       "       [-5.94984934e+00,  2.27577626e+00,  1.86309301e-15,\n",
       "        -1.11022302e-16],\n",
       "       [-5.60087980e+00,  1.88260699e+00,  2.07472928e-15,\n",
       "         5.55111512e-17],\n",
       "       [-5.63798200e+00,  1.85635003e+00,  1.50573998e-15,\n",
       "        -5.55111512e-17],\n",
       "       [-6.18495337e+00,  2.19301062e+00,  1.73125403e-15,\n",
       "         0.00000000e+00],\n",
       "       [-6.25041979e+00,  2.62199803e+00,  2.40953091e-15,\n",
       "        -1.38777878e-16],\n",
       "       [-6.47925073e+00,  2.79842433e+00,  1.90472638e-15,\n",
       "        -1.94289029e-16],\n",
       "       [-5.66179193e+00,  1.95563398e+00,  1.83533744e-15,\n",
       "        -1.11022302e-16],\n",
       "       [-5.62100870e+00,  2.25132529e+00,  2.39565312e-15,\n",
       "        -2.77555756e-17],\n",
       "       [-6.16188952e+00,  2.48656963e+00,  2.51881849e-15,\n",
       "        -8.32667268e-17],\n",
       "       [-5.78374337e+00,  2.33423977e+00,  2.49453236e-15,\n",
       "        -5.55111512e-17],\n",
       "       [-5.14562746e+00,  1.90060499e+00,  1.56472058e-15,\n",
       "        -1.11022302e-16],\n",
       "       [-5.92603941e+00,  2.17649231e+00,  1.67574288e-15,\n",
       "        -1.38777878e-16],\n",
       "       [-5.80312619e+00,  2.31011510e+00,  1.91339999e-15,\n",
       "        -8.32667268e-17],\n",
       "       [-4.97146870e+00,  1.51193425e+00,  1.62370117e-15,\n",
       "        -1.11022302e-16],\n",
       "       [-5.22164469e+00,  2.00995389e+00,  1.71737624e-15,\n",
       "         8.32667268e-17],\n",
       "       [-6.00740111e+00,  1.99441449e+00,  1.88390969e-15,\n",
       "         5.55111512e-17],\n",
       "       [-6.31685893e+00,  2.04299013e+00,  2.05738204e-15,\n",
       "         0.00000000e+00],\n",
       "       [-5.51416236e+00,  1.90904141e+00,  1.57512892e-15,\n",
       "         2.77555756e-17],\n",
       "       [-6.12937476e+00,  2.32432366e+00,  2.23432384e-15,\n",
       "        -1.66533454e-16],\n",
       "       [-5.42316721e+00,  1.99592242e+00,  1.83880688e-15,\n",
       "         0.00000000e+00],\n",
       "       [-6.19028689e+00,  2.39735064e+00,  1.90125693e-15,\n",
       "        -1.66533454e-16],\n",
       "       [-5.76161909e+00,  2.16426683e+00,  1.72778458e-15,\n",
       "         1.38777878e-16],\n",
       "       [-9.12024508e+00, -7.30558200e-02,  2.34534614e-15,\n",
       "         4.44089210e-16],\n",
       "       [-8.58376916e+00, -1.36194931e-01,  2.84494650e-15,\n",
       "        -2.22044605e-16],\n",
       "       [-9.12651817e+00, -3.32247752e-01,  3.08086889e-15,\n",
       "         0.00000000e+00],\n",
       "       [-7.27560832e+00, -4.60955955e-01,  2.22044605e-15,\n",
       "         0.00000000e+00],\n",
       "       [-8.55814639e+00, -3.97341697e-01,  2.56739074e-15,\n",
       "         4.44089210e-16],\n",
       "       [-7.87237747e+00, -4.85081002e-01,  1.77635684e-15,\n",
       "         0.00000000e+00],\n",
       "       [-8.66605949e+00, -2.86037963e-01,  1.92901251e-15,\n",
       "         2.22044605e-16],\n",
       "       [-6.45347358e+00,  2.23799845e-02,  1.51267887e-15,\n",
       "         1.11022302e-16],\n",
       "       [-8.63768432e+00, -2.45515595e-01,  2.37310172e-15,\n",
       "         4.44089210e-16],\n",
       "       [-7.16780021e+00, -2.91011251e-01,  1.94289029e-15,\n",
       "         0.00000000e+00],\n",
       "       [-6.47915170e+00, -3.09633237e-01,  1.30451205e-15,\n",
       "         2.22044605e-16],\n",
       "       [-7.97829519e+00, -1.75031916e-01,  2.08166817e-15,\n",
       "         0.00000000e+00],\n",
       "       [-7.56278153e+00, -2.70441712e-01,  2.06779038e-15,\n",
       "         2.22044605e-16],\n",
       "       [-8.33022188e+00, -4.92836582e-01,  2.66453526e-15,\n",
       "         2.22044605e-16],\n",
       "       [-7.37356730e+00,  1.78974058e-01,  2.04003481e-15,\n",
       "         2.22044605e-16],\n",
       "       [-8.70300135e+00, -3.83374315e-04,  2.16493490e-15,\n",
       "        -2.22044605e-16],\n",
       "       [-7.90686540e+00, -4.72883753e-01,  1.83186799e-15,\n",
       "        -2.22044605e-16],\n",
       "       [-7.65390386e+00, -1.24770897e-01,  2.33146835e-15,\n",
       "         2.22044605e-16],\n",
       "       [-8.05346136e+00, -7.39774413e-01,  2.74780199e-15,\n",
       "         4.44089210e-16],\n",
       "       [-7.34185398e+00, -1.83588948e-01,  2.26207941e-15,\n",
       "         2.22044605e-16],\n",
       "       [-8.41249000e+00, -5.93982991e-01,  2.35922393e-15,\n",
       "         4.44089210e-16],\n",
       "       [-7.91631631e+00, -1.70787632e-02,  1.59594560e-15,\n",
       "         0.00000000e+00],\n",
       "       [-8.44780157e+00, -8.30799394e-01,  2.13717932e-15,\n",
       "         2.22044605e-16],\n",
       "       [-8.25863175e+00, -4.78776871e-01,  2.56739074e-15,\n",
       "         2.22044605e-16],\n",
       "       [-8.33356003e+00, -8.97512089e-02,  2.38697950e-15,\n",
       "        -2.22044605e-16],\n",
       "       [-8.58988192e+00, -8.34753146e-02,  3.30291350e-15,\n",
       "         2.22044605e-16],\n",
       "       [-8.86928986e+00, -4.19455056e-01,  2.44249065e-15,\n",
       "         2.22044605e-16],\n",
       "       [-9.02317031e+00, -5.83357800e-01,  3.24740235e-15,\n",
       "         0.00000000e+00],\n",
       "       [-8.16930004e+00, -4.13888242e-01,  2.09554596e-15,\n",
       "         4.44089210e-16],\n",
       "       [-7.23297912e+00,  2.17335895e-01,  1.98452366e-15,\n",
       "         0.00000000e+00],\n",
       "       [-7.17743366e+00, -1.95814432e-01,  2.09554596e-15,\n",
       "         0.00000000e+00],\n",
       "       [-7.10934202e+00, -9.05808962e-02,  1.99840144e-15,\n",
       "         0.00000000e+00],\n",
       "       [-7.58488360e+00, -5.17721477e-02,  2.48412402e-15,\n",
       "         4.44089210e-16],\n",
       "       [-8.41787888e+00, -9.82802956e-01,  1.94289029e-15,\n",
       "         0.00000000e+00],\n",
       "       [-7.75664376e+00, -5.29718734e-01,  1.59594560e-15,\n",
       "         2.22044605e-16],\n",
       "       [-8.37613388e+00, -1.74883073e-01,  3.05311332e-15,\n",
       "        -2.22044605e-16],\n",
       "       [-8.87369476e+00, -2.47349822e-01,  2.85882429e-15,\n",
       "         2.22044605e-16],\n",
       "       [-8.08169840e+00, -5.17081855e-01,  2.59514632e-15,\n",
       "         2.22044605e-16],\n",
       "       [-7.66808034e+00, -1.20683770e-01,  1.74860126e-15,\n",
       "        -2.22044605e-16],\n",
       "       [-7.35162556e+00, -3.51607055e-01,  2.15105711e-15,\n",
       "         2.22044605e-16],\n",
       "       [-7.57804696e+00, -5.46031346e-01,  2.44249065e-15,\n",
       "         0.00000000e+00],\n",
       "       [-8.31692961e+00, -3.67295677e-01,  3.08086889e-15,\n",
       "         2.22044605e-16],\n",
       "       [-7.59817587e+00, -1.77313053e-01,  2.30371278e-15,\n",
       "         2.22044605e-16],\n",
       "       [-6.49057578e+00, -3.87697543e-03,  1.54043445e-15,\n",
       "         0.00000000e+00],\n",
       "       [-7.60535538e+00, -3.55573575e-01,  2.48412402e-15,\n",
       "         0.00000000e+00],\n",
       "       [-7.77770129e+00, -1.28765654e-01,  1.85962357e-15,\n",
       "         0.00000000e+00],\n",
       "       [-7.75648343e+00, -2.17807185e-01,  2.19269047e-15,\n",
       "         2.22044605e-16],\n",
       "       [-8.18333840e+00, -1.46586189e-01,  2.17881269e-15,\n",
       "         0.00000000e+00],\n",
       "       [-6.50459193e+00,  3.12121701e-01,  1.66533454e-15,\n",
       "         2.22044605e-16],\n",
       "       [-7.66717393e+00, -2.01615180e-01,  2.04003481e-15,\n",
       "         0.00000000e+00],\n",
       "       [-9.48408779e+00, -1.51660561e+00,  2.16493490e-15,\n",
       "         2.22044605e-16],\n",
       "       [-8.31802951e+00, -1.14273918e+00,  2.16493490e-15,\n",
       "         0.00000000e+00],\n",
       "       [-9.85248456e+00, -1.24495426e+00,  2.47024623e-15,\n",
       "         2.22044605e-16],\n",
       "       [-9.00931450e+00, -1.21126802e+00,  2.60902411e-15,\n",
       "        -2.22044605e-16],\n",
       "       [-9.36730953e+00, -1.37895983e+00,  2.35922393e-15,\n",
       "         0.00000000e+00],\n",
       "       [-1.05871448e+01, -1.59893200e+00,  3.52495810e-15,\n",
       "         4.44089210e-16],\n",
       "       [-7.22462810e+00, -1.01391260e+00,  1.67921232e-15,\n",
       "         0.00000000e+00],\n",
       "       [-1.01195289e+01, -1.42315831e+00,  3.21964677e-15,\n",
       "         0.00000000e+00],\n",
       "       [-9.26032507e+00, -1.45802877e+00,  2.49800181e-15,\n",
       "         6.66133815e-16],\n",
       "       [-1.03254119e+01, -1.16769130e+00,  3.19189120e-15,\n",
       "         2.22044605e-16],\n",
       "       [-9.05063906e+00, -7.04811578e-01,  2.66453526e-15,\n",
       "         2.22044605e-16],\n",
       "       [-8.87129618e+00, -1.11396715e+00,  1.88737914e-15,\n",
       "         4.44089210e-16],\n",
       "       [-9.42194857e+00, -1.04674091e+00,  2.80331314e-15,\n",
       "         4.44089210e-16],\n",
       "       [-8.13239132e+00, -1.24400619e+00,  2.05391260e-15,\n",
       "         2.22044605e-16],\n",
       "       [-8.43999189e+00, -1.25990013e+00,  2.41473508e-15,\n",
       "         2.22044605e-16],\n",
       "       [-9.12850228e+00, -9.78063221e-01,  3.05311332e-15,\n",
       "         2.22044605e-16],\n",
       "       [-9.14624386e+00, -1.02889214e+00,  2.58126853e-15,\n",
       "         4.44089210e-16],\n",
       "       [-1.10344162e+01, -1.23835244e+00,  3.30291350e-15,\n",
       "         4.44089210e-16],\n",
       "       [-1.06977054e+01, -2.07054584e+00,  2.72004641e-15,\n",
       "         0.00000000e+00],\n",
       "       [-8.15974415e+00, -1.15094167e+00,  2.08166817e-15,\n",
       "         2.22044605e-16],\n",
       "       [-9.70925990e+00, -1.11944159e+00,  3.02535774e-15,\n",
       "        -2.22044605e-16],\n",
       "       [-8.12000547e+00, -1.03753388e+00,  1.72084569e-15,\n",
       "         2.22044605e-16],\n",
       "       [-1.06207486e+01, -1.71636278e+00,  3.10862447e-15,\n",
       "         4.44089210e-16],\n",
       "       [-8.57419106e+00, -8.24551736e-01,  2.05391260e-15,\n",
       "         0.00000000e+00],\n",
       "       [-9.56346538e+00, -1.05286796e+00,  3.08086889e-15,\n",
       "         4.44089210e-16],\n",
       "       [-1.00045412e+01, -1.07495308e+00,  3.10862447e-15,\n",
       "         4.44089210e-16],\n",
       "       [-8.48578798e+00, -7.27428321e-01,  1.60982339e-15,\n",
       "         2.22044605e-16],\n",
       "       [-8.53799528e+00, -7.17363366e-01,  3.08086889e-15,\n",
       "         4.44089210e-16],\n",
       "       [-9.09678896e+00, -1.34062623e+00,  2.41473508e-15,\n",
       "        -2.22044605e-16],\n",
       "       [-9.79234073e+00, -9.73834912e-01,  2.63677968e-15,\n",
       "         0.00000000e+00],\n",
       "       [-1.00708200e+01, -1.34204944e+00,  3.10862447e-15,\n",
       "         4.44089210e-16],\n",
       "       [-1.09971537e+01, -9.00183935e-01,  2.33146835e-15,\n",
       "         0.00000000e+00],\n",
       "       [-9.11357971e+00, -1.37499331e+00,  2.69229083e-15,\n",
       "         2.22044605e-16],\n",
       "       [-8.66442919e+00, -8.08508955e-01,  2.74780199e-15,\n",
       "         2.22044605e-16],\n",
       "       [-8.67790400e+00, -1.29465803e+00,  2.72004641e-15,\n",
       "         2.22044605e-16],\n",
       "       [-1.04393327e+01, -1.28491639e+00,  3.08086889e-15,\n",
       "         4.44089210e-16],\n",
       "       [-9.30010211e+00, -1.14409826e+00,  3.24740235e-15,\n",
       "         6.66133815e-16],\n",
       "       [-9.10914166e+00, -1.00263518e+00,  2.33146835e-15,\n",
       "         2.22044605e-16],\n",
       "       [-8.41158358e+00, -6.74914401e-01,  2.44249065e-15,\n",
       "        -2.22044605e-16],\n",
       "       [-9.48376712e+00, -8.92782514e-01,  2.72004641e-15,\n",
       "         4.44089210e-16],\n",
       "       [-9.48651952e+00, -1.19445165e+00,  2.72004641e-15,\n",
       "         2.22044605e-16],\n",
       "       [-9.36344597e+00, -7.48917309e-01,  2.91433544e-15,\n",
       "         0.00000000e+00],\n",
       "       [-8.31802951e+00, -1.14273918e+00,  2.16493490e-15,\n",
       "         0.00000000e+00],\n",
       "       [-9.73675086e+00, -1.28959199e+00,  2.35922393e-15,\n",
       "         0.00000000e+00],\n",
       "       [-9.63062839e+00, -1.19033628e+00,  2.88657986e-15,\n",
       "        -2.22044605e-16],\n",
       "       [-9.22651660e+00, -9.31293195e-01,  2.69229083e-15,\n",
       "         2.22044605e-16],\n",
       "       [-8.56626547e+00, -1.03913417e+00,  2.63677968e-15,\n",
       "         0.00000000e+00],\n",
       "       [-9.02592271e+00, -8.85026933e-01,  2.08166817e-15,\n",
       "         0.00000000e+00],\n",
       "       [-9.10559876e+00, -9.96415757e-01,  2.52575738e-15,\n",
       "         2.22044605e-16],\n",
       "       [-8.49037542e+00, -9.15931258e-01,  2.63677968e-15,\n",
       "         0.00000000e+00]])"
      ]
     },
     "execution_count": 17,
     "metadata": {},
     "output_type": "execute_result"
    }
   ],
   "source": [
    "C = W.dot(B.T).T\n",
    "C"
   ]
  },
  {
   "cell_type": "markdown",
   "metadata": {},
   "source": [
    "Видим, что последние два столбца признаков стали равны 0. Их можно удалить."
   ]
  },
  {
   "cell_type": "code",
   "execution_count": 18,
   "metadata": {
    "id": "n04tyd6xdfKL"
   },
   "outputs": [],
   "source": [
    "# Сформируем новую матрицу \"объекты-признаки\"\n",
    "D = C[:, :2]"
   ]
  },
  {
   "cell_type": "code",
   "execution_count": 19,
   "metadata": {
    "id": "CBqTYO6udfKO",
    "outputId": "8e8e6a9d-f8fa-4c1a-ea3f-84a9bd859bed"
   },
   "outputs": [
    {
     "data": {
      "image/png": "[encoded data removed]",
      "text/plain": [
       "<Figure size 432x288 with 1 Axes>"
      ]
     },
     "metadata": {
      "needs_background": "light"
     },
     "output_type": "display_data"
    }
   ],
   "source": [
    "plt.figure()\n",
    "y = iris.target\n",
    "for c, i in zip(\"rgb\", [0, 1, 2]):\n",
    "    plt.scatter(D[y==i, 0], D[y==i, 1], c=c)\n",
    "plt.xlabel('Главная компонента 1')\n",
    "plt.ylabel('Главная компонента 2')\n",
    "plt.title('PCA датасета IRIS')\n",
    "plt.show()"
   ]
  },
  {
   "cell_type": "markdown",
   "metadata": {
    "id": "b-eNSDPndfKU"
   },
   "source": [
    "#### 3. (*) Обучить любую модель классификации на датасете IRIS до применения PCA и после него. Сравнить качество классификации по отложенной выборке."
   ]
  },
  {
   "cell_type": "code",
   "execution_count": 20,
   "metadata": {
    "id": "QvxFN6eta5kU"
   },
   "outputs": [],
   "source": [
    "from sklearn.tree import DecisionTreeClassifier\n",
    "from sklearn import model_selection\n",
    "from sklearn.metrics import accuracy_score"
   ]
  },
  {
   "cell_type": "code",
   "execution_count": 21,
   "metadata": {},
   "outputs": [],
   "source": [
    "iris = datasets.load_iris()\n",
    "X = iris.data\n",
    "y = iris.target\n",
    "X_train, X_test, y_train, y_test = model_selection.train_test_split(X, y, test_size=0.3, random_state=1)"
   ]
  },
  {
   "cell_type": "code",
   "execution_count": 22,
   "metadata": {},
   "outputs": [
    {
     "data": {
      "text/plain": [
       "DecisionTreeClassifier(ccp_alpha=0.0, class_weight=None, criterion='gini',\n",
       "                       max_depth=2, max_features=None, max_leaf_nodes=None,\n",
       "                       min_impurity_decrease=0.0, min_impurity_split=None,\n",
       "                       min_samples_leaf=1, min_samples_split=2,\n",
       "                       min_weight_fraction_leaf=0.0, presort='deprecated',\n",
       "                       random_state=None, splitter='best')"
      ]
     },
     "execution_count": 22,
     "metadata": {},
     "output_type": "execute_result"
    }
   ],
   "source": [
    "model = DecisionTreeClassifier(max_depth=2)\n",
    "model.fit(X_train, y_train)"
   ]
  },
  {
   "cell_type": "code",
   "execution_count": 23,
   "metadata": {
    "scrolled": true
   },
   "outputs": [
    {
     "name": "stdout",
     "output_type": "stream",
     "text": [
      "Точность на обучающей выборке 0.9619047619047619\n",
      "Точность на тестовой выборке 0.9555555555555556\n"
     ]
    }
   ],
   "source": [
    "y_predict_train = model.predict(X_train)\n",
    "y_predict_test = model.predict(X_test)\n",
    "print(\"Точность на обучающей выборке\", accuracy_score(y_train, y_predict_train))\n",
    "print(\"Точность на тестовой выборке\", accuracy_score(y_test, y_predict_test))"
   ]
  },
  {
   "cell_type": "code",
   "execution_count": 24,
   "metadata": {},
   "outputs": [
    {
     "data": {
      "text/plain": [
       "DecisionTreeClassifier(ccp_alpha=0.0, class_weight=None, criterion='gini',\n",
       "                       max_depth=2, max_features=None, max_leaf_nodes=None,\n",
       "                       min_impurity_decrease=0.0, min_impurity_split=None,\n",
       "                       min_samples_leaf=1, min_samples_split=2,\n",
       "                       min_weight_fraction_leaf=0.0, presort='deprecated',\n",
       "                       random_state=None, splitter='best')"
      ]
     },
     "execution_count": 24,
     "metadata": {},
     "output_type": "execute_result"
    }
   ],
   "source": [
    "X_train_PCA, X_test_PCA, y_train_PCA, y_test_PCA = model_selection.train_test_split(D, y, test_size=0.3, random_state=1)\n",
    "model = DecisionTreeClassifier(max_depth=2)\n",
    "model.fit(X_train_PCA, y_train_PCA)"
   ]
  },
  {
   "cell_type": "code",
   "execution_count": 25,
   "metadata": {
    "scrolled": true
   },
   "outputs": [
    {
     "name": "stdout",
     "output_type": "stream",
     "text": [
      "Точность на обучающей выборке 0.9714285714285714\n",
      "Точность на тестовой выборке 1.0\n"
     ]
    }
   ],
   "source": [
    "y_predict_train_PCA = model.predict(X_train_PCA)\n",
    "y_predict_test_PCA = model.predict(X_test_PCA)\n",
    "print(\"Точность на обучающей выборке\", accuracy_score(y_train_PCA, y_predict_train_PCA))\n",
    "print(\"Точность на тестовой выборке\", accuracy_score(y_test_PCA, y_predict_test_PCA))"
   ]
  },
  {
   "cell_type": "markdown",
   "metadata": {},
   "source": [
    "#### Вывод: Результаты работы модели после снижения размерности стали лучше "
   ]
  }
 ],
 "metadata": {
  "colab": {
   "collapsed_sections": [],
   "name": "Lesson_8.ipynb",
   "provenance": []
  },
  "kernelspec": {
   "display_name": "Python 3",
   "language": "python",
   "name": "python3"
  },
  "language_info": {
   "codemirror_mode": {
    "name": "ipython",
    "version": 3
   },
   "file_extension": ".py",
   "mimetype": "text/x-python",
   "name": "python",
   "nbconvert_exporter": "python",
   "pygments_lexer": "ipython3",
   "version": "3.7.4"
  }
 },
 "nbformat": 4,
 "nbformat_minor": 1
}
